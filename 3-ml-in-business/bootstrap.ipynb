{
 "cells": [
  {
   "cell_type": "markdown",
   "metadata": {},
   "source": [
    "# 1. Загрузка и подготовка данных"
   ]
  },
  {
   "cell_type": "code",
   "execution_count": 1,
   "metadata": {},
   "outputs": [],
   "source": [
    "import pandas as pd\n",
    "import numpy as np\n",
    "from sklearn.linear_model import LinearRegression\n",
    "from sklearn.preprocessing import StandardScaler\n",
    "from sklearn.model_selection import train_test_split\n",
    "from sklearn.metrics import mean_squared_error"
   ]
  },
  {
   "cell_type": "code",
   "execution_count": 2,
   "metadata": {},
   "outputs": [
    {
     "name": "stdout",
     "output_type": "stream",
     "text": [
      "<class 'pandas.core.frame.DataFrame'>\n",
      "RangeIndex: 100000 entries, 0 to 99999\n",
      "Data columns (total 5 columns):\n",
      "id         100000 non-null object\n",
      "f0         100000 non-null float64\n",
      "f1         100000 non-null float64\n",
      "f2         100000 non-null float64\n",
      "product    100000 non-null float64\n",
      "dtypes: float64(4), object(1)\n",
      "memory usage: 3.8+ MB\n",
      "None\n",
      "                  f0             f1             f2        product\n",
      "count  100000.000000  100000.000000  100000.000000  100000.000000\n",
      "mean        0.500419       0.250143       2.502647      92.500000\n",
      "std         0.871832       0.504433       3.248248      44.288691\n",
      "min        -1.408605      -0.848218     -12.088328       0.000000\n",
      "25%        -0.072580      -0.200881       0.287748      56.497507\n",
      "50%         0.502360       0.250252       2.515969      91.849972\n",
      "75%         1.073581       0.700646       4.715088     128.564089\n",
      "max         2.362331       1.343769      16.003790     185.364347 \n",
      "\n",
      "<class 'pandas.core.frame.DataFrame'>\n",
      "RangeIndex: 100000 entries, 0 to 99999\n",
      "Data columns (total 5 columns):\n",
      "id         100000 non-null object\n",
      "f0         100000 non-null float64\n",
      "f1         100000 non-null float64\n",
      "f2         100000 non-null float64\n",
      "product    100000 non-null float64\n",
      "dtypes: float64(4), object(1)\n",
      "memory usage: 3.8+ MB\n",
      "None\n",
      "                  f0             f1             f2        product\n",
      "count  100000.000000  100000.000000  100000.000000  100000.000000\n",
      "mean        1.141296      -4.796579       2.494541      68.825000\n",
      "std         8.965932       5.119872       1.703572      45.944423\n",
      "min       -31.609576     -26.358598      -0.018144       0.000000\n",
      "25%        -6.298551      -8.267985       1.000021      26.953261\n",
      "50%         1.153055      -4.813172       2.011479      57.085625\n",
      "75%         8.621015      -1.332816       3.999904     107.813044\n",
      "max        29.421755      18.734063       5.019721     137.945408 \n",
      "\n",
      "<class 'pandas.core.frame.DataFrame'>\n",
      "RangeIndex: 100000 entries, 0 to 99999\n",
      "Data columns (total 5 columns):\n",
      "id         100000 non-null object\n",
      "f0         100000 non-null float64\n",
      "f1         100000 non-null float64\n",
      "f2         100000 non-null float64\n",
      "product    100000 non-null float64\n",
      "dtypes: float64(4), object(1)\n",
      "memory usage: 3.8+ MB\n",
      "None\n",
      "                  f0             f1             f2        product\n",
      "count  100000.000000  100000.000000  100000.000000  100000.000000\n",
      "mean        0.002023      -0.002081       2.495128      95.000000\n",
      "std         1.732045       1.730417       3.473445      44.749921\n",
      "min        -8.760004      -7.084020     -11.970335       0.000000\n",
      "25%        -1.162288      -1.174820       0.130359      59.450441\n",
      "50%         0.009424      -0.009482       2.484236      94.925613\n",
      "75%         1.158535       1.163678       4.858794     130.595027\n",
      "max         7.238262       7.844801      16.739402     190.029838 \n",
      "\n"
     ]
    }
   ],
   "source": [
    "geo_data_0 = pd.read_csv('/datasets/geo_data_0.csv')\n",
    "geo_data_1 = pd.read_csv('/datasets/geo_data_1.csv')\n",
    "geo_data_2 = pd.read_csv('/datasets/geo_data_2.csv')\n",
    "\n",
    "for data in [geo_data_0, geo_data_1, geo_data_2]:\n",
    "    print(data.info())\n",
    "    print(data.describe(), '\\n')"
   ]
  },
  {
   "cell_type": "markdown",
   "metadata": {},
   "source": [
    "Целевой признак - product\n",
    "\n",
    "Признаки необходимо будет масштабировать.\n",
    "\n",
    "Если предположить что столбец id состоит из уникальных значений, то его смысл для модели теряется. Если применить на него порядковое кодирование получим значение индексов, а если OHE - кучу столбцов с флажками индексов. Да и для задачи он как таковой не имеет ценности, нужно определить регион, а не конкретное месторождение."
   ]
  },
  {
   "cell_type": "code",
   "execution_count": 3,
   "metadata": {},
   "outputs": [
    {
     "name": "stdout",
     "output_type": "stream",
     "text": [
      "(99990,) 0\n",
      "(99996,) 0\n",
      "(99996,) 0\n"
     ]
    }
   ],
   "source": [
    "for data in [geo_data_0, geo_data_1, geo_data_2]:\n",
    "    print(data['id'].unique().shape, data.duplicated().sum())"
   ]
  },
  {
   "cell_type": "markdown",
   "metadata": {},
   "source": [
    "Несущественно. Уберем его на время обучения модели."
   ]
  },
  {
   "cell_type": "code",
   "execution_count": 4,
   "metadata": {},
   "outputs": [],
   "source": [
    "def target_separator(df, target):\n",
    "    targ = df[target]\n",
    "    feat = df.drop([target, 'id'], axis=1)\n",
    "    return targ, feat"
   ]
  },
  {
   "cell_type": "code",
   "execution_count": 5,
   "metadata": {},
   "outputs": [
    {
     "name": "stdout",
     "output_type": "stream",
     "text": [
      "(100000,) (100000, 3)\n",
      "(100000,) (100000, 3)\n",
      "(100000,) (100000, 3)\n"
     ]
    }
   ],
   "source": [
    "target_0, features_0 = target_separator(geo_data_0, 'product')\n",
    "print(target_0.shape, features_0.shape)\n",
    "\n",
    "target_1, features_1 = target_separator(geo_data_1, 'product')\n",
    "print(target_1.shape, features_1.shape)\n",
    "\n",
    "target_2, features_2 = target_separator(geo_data_2, 'product')\n",
    "print(target_2.shape, features_2.shape)"
   ]
  },
  {
   "cell_type": "markdown",
   "metadata": {},
   "source": [
    "# 2. Обучение и проверка модели"
   ]
  },
  {
   "cell_type": "code",
   "execution_count": 6,
   "metadata": {},
   "outputs": [],
   "source": [
    "def model_cycle(feat, targ):\n",
    "    \n",
    "    feat_train, feat_val, targ_train, targ_val = train_test_split(\n",
    "        feat, targ, test_size=0.25, random_state=42)\n",
    "    \n",
    "    scaler = StandardScaler()\n",
    "    scaler.fit(feat_train)\n",
    "    feat_train = scaler.transform(feat_train)\n",
    "    feat_val = scaler.transform(feat_val)\n",
    "    \n",
    "    model = LinearRegression()\n",
    "    model.fit(feat_train, targ_train)\n",
    "    pred_val = model.predict(feat_val)\n",
    "    \n",
    "    mean_prod = pred_val.mean()\n",
    "    rmse = (mean_squared_error(targ_val, pred_val)) ** 0.5\n",
    "    print('Cредний запас сырья:', mean_prod) \n",
    "    print('RMSE:', rmse)\n",
    "    \n",
    "    return targ_val, pred_val"
   ]
  },
  {
   "cell_type": "code",
   "execution_count": 7,
   "metadata": {},
   "outputs": [
    {
     "name": "stdout",
     "output_type": "stream",
     "text": [
      "Для geo_data_0:\n",
      "Cредний запас сырья: 92.39879990657768\n",
      "RMSE: 37.75660035026169\n",
      "(25000,) (25000,) \n",
      "\n",
      "Для geo_data_1:\n",
      "Cредний запас сырья: 68.71287803913762\n",
      "RMSE: 0.8902801001028834\n",
      "(25000,) (25000,) \n",
      "\n",
      "Для geo_data_2:\n",
      "Cредний запас сырья: 94.77102387765939\n",
      "RMSE: 40.145872311342174\n",
      "(25000,) (25000,)\n"
     ]
    }
   ],
   "source": [
    "print('Для geo_data_0:')\n",
    "target_val_0, predicted_0 = model_cycle(features_0, target_0)\n",
    "print(target_val_0.shape, predicted_0.shape, '\\n')\n",
    "target_val_0 = pd.Series(target_val_0)\n",
    "predicted_0 = pd.Series(predicted_0)\n",
    "\n",
    "\n",
    "print('Для geo_data_1:')\n",
    "target_val_1, predicted_1 = model_cycle(features_1, target_1)\n",
    "print(target_val_1.shape, predicted_1.shape, '\\n')\n",
    "target_val_1 = pd.Series(target_val_1)\n",
    "predicted_1 = pd.Series(predicted_1)\n",
    "\n",
    "print('Для geo_data_2:')\n",
    "target_val_2, predicted_2 = model_cycle(features_2, target_2)\n",
    "print(target_val_2.shape, predicted_2.shape)\n",
    "target_val_2 = pd.Series(target_val_2)\n",
    "predicted_2 = pd.Series(predicted_2)"
   ]
  },
  {
   "cell_type": "markdown",
   "metadata": {},
   "source": [
    "Чем меньше RMSE, тем лучше. Отклонения в geo_data_1 до идиального минимальны. Можно ли это считать переобучением?"
   ]
  },
  {
   "cell_type": "code",
   "execution_count": 8,
   "metadata": {},
   "outputs": [
    {
     "name": "stdout",
     "output_type": "stream",
     "text": [
      "Среднее на целевом: 92.32595637084387\n",
      "RMSE: 44.27662690128472\n",
      "Среднее на целевом: 68.72538074722745\n",
      "RMSE: 45.9446674190625\n",
      "Среднее на целевом: 95.15099907171961\n",
      "RMSE: 44.78232422904734\n"
     ]
    }
   ],
   "source": [
    "for target in [target_val_0, target_val_1, target_val_2]:\n",
    "    mean = pd.Series(target.mean(), index=target.index)\n",
    "    rmse = (mean_squared_error(target, mean)) ** 0.5\n",
    "    print('Среднее на целевом:', target.mean()) \n",
    "    print('RMSE:', rmse)"
   ]
  },
  {
   "cell_type": "markdown",
   "metadata": {},
   "source": [
    "Судя по значениям которые дают случайные модели, geo_data_2 почти рандомна, но опять же, если RMSE придает больший вес именно большим значениям ошибок, то пара значений колоссально отличающихся от оригинального и дает эти 40. Тоже самое может быть и про geo_data_0.\n",
    "\n",
    "Хотя среднее реальных значений и предсказанных почти неразличаются. Это может подтверждать предположение что есть несколько значений с отличием как в одну так и в другую сторону.\n",
    "\n",
    "Мне сложно делать выводы из этих оценок. geo_data_1 - переобучение, geo_data_2 - недообучение, geo_data_0 - плохая модель?"
   ]
  },
  {
   "cell_type": "markdown",
   "metadata": {},
   "source": [
    "# 3. Подготовка к расчёту прибыли"
   ]
  },
  {
   "cell_type": "markdown",
   "metadata": {},
   "source": [
    "Попробуем такое рассуждение: Нужно понять какой обьем надо добыть чтобы затраченный бюджет окупился, но не просто окупился, а еще и принес прибыль. Потратить 10 миллиардов чтобы заработать эти же 10 миллиардов, не хорошо, конечно, но и не ужасно.\n",
    "\n",
    "Исходя из этого предположения для определения минимального среднего объёма сырья в месторождениях региона, достаточного для его разработки, нужно всего лишь:"
   ]
  },
  {
   "cell_type": "code",
   "execution_count": 9,
   "metadata": {},
   "outputs": [
    {
     "data": {
      "text/plain": [
       "2222.222222222222"
      ]
     },
     "execution_count": 9,
     "metadata": {},
     "output_type": "execute_result"
    }
   ],
   "source": [
    "min_mean = 10000000000 / 4500000\n",
    "min_mean"
   ]
  },
  {
   "cell_type": "markdown",
   "metadata": {},
   "source": [
    "Это означает, что 200 скважин (10млрд/50млн), на которые хватает бюджета, должны принести не менее 2222 тысячей баррелей, чтобы только вернуть вложения. Все что ниже данного значения принесет убытки компании."
   ]
  },
  {
   "cell_type": "code",
   "execution_count": 10,
   "metadata": {},
   "outputs": [
    {
     "name": "stdout",
     "output_type": "stream",
     "text": [
      "36966.747929072015 30881.46328814699\n",
      "27589.081548181137 27748.751366664626\n",
      "37910.29539635329 29728.84780825545\n"
     ]
    }
   ],
   "source": [
    "print(target_0.sort_values(ascending=False)[:200].sum(), predicted_0.sort_values(ascending=False)[:200].sum())\n",
    "print(target_1.sort_values(ascending=False)[:200].sum(), predicted_1.sort_values(ascending=False)[:200].sum())\n",
    "print(target_2.sort_values(ascending=False)[:200].sum(), predicted_2.sort_values(ascending=False)[:200].sum())"
   ]
  },
  {
   "cell_type": "markdown",
   "metadata": {},
   "source": [
    "Ради интереса просто посмотреть возможный уровень добычи по данным. Зато заметно откуда взялись оценки RMSE. Модели по геоданным 0 и 2 настроены довольно пессимистично, а по данным 1 даже чуточку больше. Это касательно лучших месторождений не учитывая общего индекса, просто так посмотреть, что прибыль похоже будет в среднем в 10-11 раз выше затрат.\n",
    "\n",
    "Функция для расчета прибыли:"
   ]
  },
  {
   "cell_type": "code",
   "execution_count": 11,
   "metadata": {},
   "outputs": [],
   "source": [
    "def profit(trgt, prdct, count):\n",
    "    pred_sort = prdct.sort_values(ascending=False)[:count]\n",
    "    select = trgt[pred_sort.index][:count]\n",
    "    return select.sum() * 4500000 - 10000000000"
   ]
  },
  {
   "cell_type": "markdown",
   "metadata": {},
   "source": [
    "Берем лучшие из предсказанных значений, ищем индексы этих значений в \"фактических\" данных и по ним считаем прибыль, которая будет по факту добычи. По идее возвращается валовая прибыль."
   ]
  },
  {
   "cell_type": "markdown",
   "metadata": {},
   "source": [
    "# 4. Расчёт прибыли и рисков "
   ]
  },
  {
   "cell_type": "markdown",
   "metadata": {},
   "source": [
    "За раз разведать можем 500 месторождений, из них надо выбрать 200 самых даровитых и посчитать с них прибыль. И так 1000 раз, для 3 регионов.\n",
    "\n",
    "Как я понимаю задачу, нужно оценить именно риск, который несет в себе предсказание моделью, сравнивая результаты, которые дают точки с одинаковым индексом в predicted и target. Таким образом можно будет увидеть чего стоят ошибки модели.\n",
    "\n",
    "В values собираем распределение прибыли 1000 выборок с 200 месторождений. Функция должна возвращаять среднюю прибыль, 95% доверительный интервал и риски, процент которых найдем в заисимости от кол-ва возможных результатов с отрицательной прибылью из значений values."
   ]
  },
  {
   "cell_type": "code",
   "execution_count": 12,
   "metadata": {},
   "outputs": [],
   "source": [
    "state = np.random.RandomState(42)\n",
    "\n",
    "def bootstrap_1000(targ, pred, n, count):\n",
    "    \n",
    "    values = []\n",
    "    \n",
    "    for i in range(1000):\n",
    "        targ_sample = targ.sample(n=n, replace=True, random_state=state)\n",
    "        pred_sample = pred[targ_sample.index]\n",
    "        values.append(profit(targ_sample, pred_sample, count))\n",
    "        \n",
    "    values = pd.Series(values)\n",
    "    \n",
    "    mean = values.mean()\n",
    "    lower_int = values.quantile(0.05)\n",
    "    upper_int = values.quantile(0.95)\n",
    "    loss = pd.Series(list(map(lambda x: x < 0, values)))\n",
    "    \n",
    "    print(\"Средняя прибыль:\", mean)\n",
    "    print(\"95%-ый доверительный интервал:\", lower_int, upper_int)\n",
    "    print(\"Риски понести убытки в %:\", loss.sum() / len(loss))\n",
    "    \n",
    "    return values"
   ]
  },
  {
   "cell_type": "code",
   "execution_count": 16,
   "metadata": {},
   "outputs": [
    {
     "name": "stdout",
     "output_type": "stream",
     "text": [
      "Для geo_data_0:\n",
      "Средняя прибыль: 73434977985.68651\n",
      "95%-ый доверительный интервал: 68669599956.35058 78059589323.35788\n",
      "Риски понести убытки в %: 0.0\n"
     ]
    },
    {
     "data": {
      "text/plain": [
       "<matplotlib.axes._subplots.AxesSubplot at 0x7fc654e587f0>"
      ]
     },
     "execution_count": 16,
     "metadata": {},
     "output_type": "execute_result"
    },
    {
     "data": {
      "image/png": "[encoded data removed]",
      "text/plain": [
       "<Figure size 720x504 with 1 Axes>"
      ]
     },
     "metadata": {
      "needs_background": "light"
     },
     "output_type": "display_data"
    }
   ],
   "source": [
    "print('Для geo_data_0:')\n",
    "profit_val_0 = bootstrap_1000(target_0, predicted_0, 500, 200)\n",
    "profit_val_0.hist(bins=100, figsize=(10, 7))"
   ]
  },
  {
   "cell_type": "code",
   "execution_count": 17,
   "metadata": {},
   "outputs": [
    {
     "name": "stdout",
     "output_type": "stream",
     "text": [
      "Для geo_data_1:\n",
      "Средняя прибыль: 51668397153.27755\n",
      "95%-ый доверительный интервал: 46859262175.723404 56499427716.09702\n",
      "Риски понести убытки в %: 0.0\n"
     ]
    },
    {
     "data": {
      "text/plain": [
       "<matplotlib.axes._subplots.AxesSubplot at 0x7fc654d2d400>"
      ]
     },
     "execution_count": 17,
     "metadata": {},
     "output_type": "execute_result"
    },
    {
     "data": {
      "image/png": "[encoded data removed]",
      "text/plain": [
       "<Figure size 720x504 with 1 Axes>"
      ]
     },
     "metadata": {
      "needs_background": "light"
     },
     "output_type": "display_data"
    }
   ],
   "source": [
    "print('Для geo_data_1:')\n",
    "profit_val_1 = bootstrap_1000(target_1, predicted_1, 500, 200)\n",
    "profit_val_1.hist(bins=100, figsize=(10, 7))"
   ]
  },
  {
   "cell_type": "code",
   "execution_count": 18,
   "metadata": {},
   "outputs": [
    {
     "name": "stdout",
     "output_type": "stream",
     "text": [
      "Для geo_data_2:\n",
      "Средняя прибыль: 75471240204.06502\n",
      "95%-ый доверительный интервал: 70755997220.61606 80244177762.93996\n",
      "Риски понести убытки в %: 0.0\n"
     ]
    },
    {
     "data": {
      "text/plain": [
       "<matplotlib.axes._subplots.AxesSubplot at 0x7fc654b5c4a8>"
      ]
     },
     "execution_count": 18,
     "metadata": {},
     "output_type": "execute_result"
    },
    {
     "data": {
      "image/png": "[encoded data removed]",
      "text/plain": [
       "<Figure size 720x504 with 1 Axes>"
      ]
     },
     "metadata": {
      "needs_background": "light"
     },
     "output_type": "display_data"
    }
   ],
   "source": [
    "print('Для geo_data_2:')\n",
    "profit_val_2 = bootstrap_1000(target_2, predicted_2, 500, 200)\n",
    "profit_val_2.hist(bins=100, figsize=(10, 7))"
   ]
  },
  {
   "cell_type": "markdown",
   "metadata": {},
   "source": [
    "Что за чудесный бизнес! Прибыль в 7,5 раза больше чем вложил и никаких рисков!\n",
    "\n",
    "Как видно из значений средней прибыли и гистограмм, самым прибыльным регионом является geo_data_2, его и стоит разрабатывать.\n",
    "\n",
    "Но что если посмотреть на результаты без модели, как ее предсказания сказались на прибыли?"
   ]
  },
  {
   "cell_type": "code",
   "execution_count": 19,
   "metadata": {},
   "outputs": [
    {
     "name": "stdout",
     "output_type": "stream",
     "text": [
      "Для geo_data_0 без модели:\n",
      "Средняя прибыль: 113999927810.41098\n",
      "95%-ый доверительный интервал: 110845281242.71716 117197084954.25568\n",
      "Риски понести убытки в %: 0.0\n",
      "\n",
      "Для geo_data_1 без модели:\n",
      "Средняя прибыль: 94648087512.7829\n",
      "95%-ый доверительный интервал: 91215176091.52586 97865737751.4754\n",
      "Риски понести убытки в %: 0.0\n",
      "\n",
      "Для geo_data_2 без модели:\n",
      "Средняя прибыль: 116462789681.631\n",
      "95%-ый доверительный интервал: 113149487402.8492 119578928742.10936\n",
      "Риски понести убытки в %: 0.0\n",
      "\n"
     ]
    }
   ],
   "source": [
    "print('Для geo_data_0 без модели:')\n",
    "bootstrap_1000(target_0, target_0, 500, 200)\n",
    "print()\n",
    "print('Для geo_data_1 без модели:')\n",
    "bootstrap_1000(target_1, target_1, 500, 200)\n",
    "print()\n",
    "print('Для geo_data_2 без модели:')\n",
    "bootstrap_1000(target_2, target_2, 500, 200)\n",
    "print()"
   ]
  },
  {
   "cell_type": "markdown",
   "metadata": {},
   "source": [
    "Ожидаемая прибыль не была завышена моделью в сравнении с оценкой прибыли по \"фактическим\" данным. Также нет изменений относительно лучшего региона для добычи. Так что несмотря на пессимизм модели, результат оказался схожим.\n",
    "\n",
    "---"
   ]
  },
  {
   "cell_type": "markdown",
   "metadata": {},
   "source": [
    "Тут идея была в том что модель не уловила тенденцию по самим точкам. Индексы 200 лучших в target и prediction различаются. Модель не нашла самые даровитые точки, котороые по факту есть в регионе. Она занизила оценки одних, завысила оценки других и RMSE нам этого не покажет.\n",
    "\n",
    "Если мы будем опираться на предсказания модели для того чтобы определить в каких именно точках ставить скважины, мы недоберем в среднем 41млрд прибыли. Вот в чем была идея опираться на фактические данные, посмотреть на то что будет по факту добычи из месторождений. А если смотреть на данные полученные с помощью модели, то это с точки зрения реальности, что нам неизвестен target.\n",
    "\n",
    "По мимо оценки кол-ва сырья в месторождениях, можно попробовать еще и классифицировать эти месторождения, чтобы подсказать модели регрессии, где потенциально должно быть больше, чтобы повысить точность оценки запасов сырья в самых даровитых месторождениях. Мне кажется в такой задаче важна точность, потому что выкачать надо по-максимому."
   ]
  },
  {
   "cell_type": "code",
   "execution_count": 21,
   "metadata": {},
   "outputs": [
    {
     "name": "stdout",
     "output_type": "stream",
     "text": [
      "Для geo_data_0:\n",
      "Средняя прибыль: 93638795708.36485\n",
      "95%-ый доверительный интервал: 91660401680.54213 95707547670.42331\n",
      "Риски понести убытки в %: 0.0\n",
      "\n",
      "Для geo_data_1:\n",
      "Средняя прибыль: 95010432427.89418\n",
      "95%-ый доверительный интервал: 91584699028.78217 98541737339.17108\n",
      "Риски понести убытки в %: 0.0\n",
      "\n",
      "Для geo_data_2:\n",
      "Средняя прибыль: 92969946109.0619\n",
      "95%-ый доверительный интервал: 91301026807.35173 94670729523.40628\n",
      "Риски понести убытки в %: 0.0\n",
      "\n"
     ]
    }
   ],
   "source": [
    "#Все же надо проверить какой регион оказался лучшим по данным модели\n",
    "#Cудя по 5 итерации в 3 пункте, это будет не geo_data_2, а geo_data_0\n",
    "\n",
    "print('Для geo_data_0:')\n",
    "bootstrap_1000(predicted_0, predicted_0, 500, 200)\n",
    "print()\n",
    "print('Для geo_data_1:')\n",
    "bootstrap_1000(predicted_1, predicted_1, 500, 200)\n",
    "print()\n",
    "print('Для geo_data_2:')\n",
    "bootstrap_1000(predicted_2, predicted_2, 500, 200)\n",
    "print()"
   ]
  },
  {
   "cell_type": "markdown",
   "metadata": {},
   "source": [
    "Согласно данным модели самым прибыльным регионом был бы geo_data_1 реально являющийся самым не прибыльным. Зато оценка прибыли с региона максимально точна в сравнении с результатами без модели, хоть и немного оптимистична.\n",
    "\n",
    "Судя по всему это все как раз связанно со столь низкой оценкой RMSE. Они и выстроились как раз также как и по RMSE 1-0-2.\n",
    "\n",
    "В сравнении с этим все что выше просто не имело смысла..."
   ]
  }
 ],
 "metadata": {
  "kernelspec": {
   "display_name": "Python 3",
   "language": "python",
   "name": "python3"
  },
  "language_info": {
   "codemirror_mode": {
    "name": "ipython",
    "version": 3
   },
   "file_extension": ".py",
   "mimetype": "text/x-python",
   "name": "python",
   "nbconvert_exporter": "python",
   "pygments_lexer": "ipython3",
   "version": "3.7.3"
  }
 },
 "nbformat": 4,
 "nbformat_minor": 2
}
