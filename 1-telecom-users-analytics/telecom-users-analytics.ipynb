{
 "cells": [
  {
   "cell_type": "markdown",
   "metadata": {},
   "source": [
    "### Шаг 1. Общая информация <span style=\"color:green;font-size:200%\">&#10003;</span>"
   ]
  },
  {
   "cell_type": "code",
   "execution_count": 1,
   "metadata": {},
   "outputs": [],
   "source": [
    "import pandas as pd\n",
    "import numpy as np\n",
    "import matplotlib.pyplot as plt\n",
    "\n",
    "calls_df = pd.read_csv('/datasets/calls.csv')\n",
    "net_df = pd.read_csv('/datasets/internet.csv')\n",
    "messages_df = pd.read_csv('/datasets/messages.csv')\n",
    "tariffs_df = pd.read_csv('/datasets/tariffs.csv')\n",
    "users_df = pd.read_csv('/datasets/users.csv')"
   ]
  },
  {
   "cell_type": "code",
   "execution_count": 2,
   "metadata": {},
   "outputs": [
    {
     "name": "stdout",
     "output_type": "stream",
     "text": [
      "<class 'pandas.core.frame.DataFrame'>\n",
      "RangeIndex: 202607 entries, 0 to 202606\n",
      "Data columns (total 4 columns):\n",
      "id           202607 non-null object\n",
      "call_date    202607 non-null object\n",
      "duration     202607 non-null float64\n",
      "user_id      202607 non-null int64\n",
      "dtypes: float64(1), int64(1), object(2)\n",
      "memory usage: 6.2+ MB\n",
      "None \n",
      "\n",
      "       id   call_date  duration  user_id\n",
      "0  1000_0  2018-07-25      0.00     1000\n",
      "1  1000_1  2018-08-17      0.00     1000\n",
      "2  1000_2  2018-06-11      2.85     1000\n",
      "3  1000_3  2018-09-21     13.80     1000\n",
      "4  1000_4  2018-12-15      5.18     1000 \n",
      "\n",
      "            duration        user_id\n",
      "count  202607.000000  202607.000000\n",
      "mean        6.755887    1253.940619\n",
      "std         5.843365     144.722751\n",
      "min         0.000000    1000.000000\n",
      "25%         1.300000    1126.000000\n",
      "50%         6.000000    1260.000000\n",
      "75%        10.700000    1379.000000\n",
      "max        38.000000    1499.000000 \n",
      " \n",
      "\n",
      "<class 'pandas.core.frame.DataFrame'>\n",
      "RangeIndex: 149396 entries, 0 to 149395\n",
      "Data columns (total 4 columns):\n",
      "id              149396 non-null object\n",
      "mb_used         149396 non-null float64\n",
      "session_date    149396 non-null object\n",
      "user_id         149396 non-null int64\n",
      "dtypes: float64(1), int64(1), object(2)\n",
      "memory usage: 4.6+ MB\n",
      "None \n",
      "\n",
      "       id  mb_used session_date  user_id\n",
      "0  1000_0   112.95   2018-11-25     1000\n",
      "1  1000_1  1052.81   2018-09-07     1000\n",
      "2  1000_2  1197.26   2018-06-25     1000\n",
      "3  1000_3   550.27   2018-08-22     1000\n",
      "4  1000_4   302.56   2018-09-24     1000 \n",
      "\n",
      "             mb_used        user_id\n",
      "count  149396.000000  149396.000000\n",
      "mean      370.192426    1252.099842\n",
      "std       278.300951     144.050823\n",
      "min         0.000000    1000.000000\n",
      "25%       138.187500    1130.000000\n",
      "50%       348.015000    1251.000000\n",
      "75%       559.552500    1380.000000\n",
      "max      1724.830000    1499.000000 \n",
      " \n",
      "\n",
      "<class 'pandas.core.frame.DataFrame'>\n",
      "RangeIndex: 123036 entries, 0 to 123035\n",
      "Data columns (total 3 columns):\n",
      "id              123036 non-null object\n",
      "message_date    123036 non-null object\n",
      "user_id         123036 non-null int64\n",
      "dtypes: int64(1), object(2)\n",
      "memory usage: 2.8+ MB\n",
      "None \n",
      "\n",
      "       id message_date  user_id\n",
      "0  1000_0   2018-06-27     1000\n",
      "1  1000_1   2018-10-08     1000\n",
      "2  1000_2   2018-08-04     1000\n",
      "3  1000_3   2018-06-16     1000\n",
      "4  1000_4   2018-12-05     1000 \n",
      "\n",
      "             user_id\n",
      "count  123036.000000\n",
      "mean     1256.989410\n",
      "std       143.523967\n",
      "min      1000.000000\n",
      "25%      1134.000000\n",
      "50%      1271.000000\n",
      "75%      1381.000000\n",
      "max      1499.000000 \n",
      " \n",
      "\n",
      "<class 'pandas.core.frame.DataFrame'>\n",
      "RangeIndex: 2 entries, 0 to 1\n",
      "Data columns (total 8 columns):\n",
      "messages_included        2 non-null int64\n",
      "mg_per_month_included    2 non-null int64\n",
      "minutes_included         2 non-null int64\n",
      "rub_monthly_fee          2 non-null int64\n",
      "rub_per_gb               2 non-null int64\n",
      "rub_per_message          2 non-null int64\n",
      "rub_per_minute           2 non-null int64\n",
      "tariff_name              2 non-null object\n",
      "dtypes: int64(7), object(1)\n",
      "memory usage: 208.0+ bytes\n",
      "None \n",
      "\n",
      "   messages_included  mg_per_month_included  minutes_included  \\\n",
      "0                 50                  15360               500   \n",
      "1               1000                  30720              3000   \n",
      "\n",
      "   rub_monthly_fee  rub_per_gb  rub_per_message  rub_per_minute tariff_name  \n",
      "0              550         200                3               3       smart  \n",
      "1             1950         150                1               1       ultra   \n",
      "\n",
      "       messages_included  mg_per_month_included  minutes_included  \\\n",
      "count           2.000000               2.000000          2.000000   \n",
      "mean          525.000000           23040.000000       1750.000000   \n",
      "std           671.751442           10861.160159       1767.766953   \n",
      "min            50.000000           15360.000000        500.000000   \n",
      "25%           287.500000           19200.000000       1125.000000   \n",
      "50%           525.000000           23040.000000       1750.000000   \n",
      "75%           762.500000           26880.000000       2375.000000   \n",
      "max          1000.000000           30720.000000       3000.000000   \n",
      "\n",
      "       rub_monthly_fee  rub_per_gb  rub_per_message  rub_per_minute  \n",
      "count         2.000000    2.000000         2.000000        2.000000  \n",
      "mean       1250.000000  175.000000         2.000000        2.000000  \n",
      "std         989.949494   35.355339         1.414214        1.414214  \n",
      "min         550.000000  150.000000         1.000000        1.000000  \n",
      "25%         900.000000  162.500000         1.500000        1.500000  \n",
      "50%        1250.000000  175.000000         2.000000        2.000000  \n",
      "75%        1600.000000  187.500000         2.500000        2.500000  \n",
      "max        1950.000000  200.000000         3.000000        3.000000   \n",
      " \n",
      "\n",
      "<class 'pandas.core.frame.DataFrame'>\n",
      "RangeIndex: 500 entries, 0 to 499\n",
      "Data columns (total 8 columns):\n",
      "user_id       500 non-null int64\n",
      "age           500 non-null int64\n",
      "churn_date    38 non-null object\n",
      "city          500 non-null object\n",
      "first_name    500 non-null object\n",
      "last_name     500 non-null object\n",
      "reg_date      500 non-null object\n",
      "tariff        500 non-null object\n",
      "dtypes: int64(2), object(6)\n",
      "memory usage: 31.3+ KB\n",
      "None \n",
      "\n",
      "   user_id  age churn_date         city first_name  last_name    reg_date  \\\n",
      "0     1000   52        NaN    Краснодар     Рафаил  Верещагин  2018-05-25   \n",
      "1     1001   41        NaN       Москва       Иван       Ежов  2018-11-01   \n",
      "2     1002   59        NaN  Стерлитамак    Евгений  Абрамович  2018-06-17   \n",
      "3     1003   23        NaN       Москва      Белла   Белякова  2018-08-17   \n",
      "4     1004   68        NaN  Новокузнецк    Татьяна   Авдеенко  2018-05-14   \n",
      "\n",
      "  tariff  \n",
      "0  ultra  \n",
      "1  smart  \n",
      "2  smart  \n",
      "3  ultra  \n",
      "4  ultra   \n",
      "\n",
      "           user_id        age\n",
      "count   500.000000  500.00000\n",
      "mean   1249.500000   46.58800\n",
      "std     144.481833   16.66763\n",
      "min    1000.000000   18.00000\n",
      "25%    1124.750000   32.00000\n",
      "50%    1249.500000   46.00000\n",
      "75%    1374.250000   62.00000\n",
      "max    1499.000000   75.00000 \n",
      " \n",
      "\n"
     ]
    }
   ],
   "source": [
    "for df in [calls_df, net_df, messages_df, tariffs_df, users_df]:\n",
    "    print(df.info(), '\\n')\n",
    "    print(df.head(), '\\n')\n",
    "    print(df.describe(), '\\n', '\\n')"
   ]
  },
  {
   "cell_type": "markdown",
   "metadata": {},
   "source": [
    "### Шаг 2. Подготовка данных <span style=\"color:green;font-size:200%\">&#10003;</span>"
   ]
  },
  {
   "cell_type": "markdown",
   "metadata": {},
   "source": [
    "Приводим данные к нужному виду:"
   ]
  },
  {
   "cell_type": "code",
   "execution_count": 3,
   "metadata": {},
   "outputs": [
    {
     "name": "stdout",
     "output_type": "stream",
     "text": [
      "<class 'pandas.core.frame.DataFrame'>\n",
      "RangeIndex: 500 entries, 0 to 499\n",
      "Data columns (total 8 columns):\n",
      "user_id       500 non-null int64\n",
      "age           500 non-null int64\n",
      "churn_date    38 non-null datetime64[ns]\n",
      "city          500 non-null object\n",
      "first_name    500 non-null object\n",
      "last_name     500 non-null object\n",
      "reg_date      500 non-null datetime64[ns]\n",
      "tariff        500 non-null object\n",
      "dtypes: datetime64[ns](2), int64(2), object(4)\n",
      "memory usage: 31.3+ KB\n"
     ]
    }
   ],
   "source": [
    "for df in [calls_df, net_df, messages_df, tariffs_df, users_df]:\n",
    "    for col in df.columns:\n",
    "        if '_date' in col:\n",
    "            df[col] = pd.to_datetime(df[col], format='%Y-%m-%d')\n",
    "users_df.info()"
   ]
  },
  {
   "cell_type": "markdown",
   "metadata": {},
   "source": [
    "«Мегалайн» всегда округляет вверх значения минут и мегабайтов."
   ]
  },
  {
   "cell_type": "code",
   "execution_count": 4,
   "metadata": {},
   "outputs": [],
   "source": [
    "calls_df['duration'] = calls_df['duration'].apply(np.ceil).astype('int')\n",
    "net_df['mb_used'] = net_df['mb_used'].apply(np.ceil).astype('int')"
   ]
  },
  {
   "cell_type": "markdown",
   "metadata": {},
   "source": [
    "Посмотрим на графики значений в таблицах calls_df и internet_df:"
   ]
  },
  {
   "cell_type": "code",
   "execution_count": 5,
   "metadata": {},
   "outputs": [
    {
     "name": "stdout",
     "output_type": "stream",
     "text": [
      "0.19551644316336553\n",
      "0.13118155773916304\n"
     ]
    },
    {
     "data": {
      "image/png": "[encoded data removed]",
      "text/plain": [
       "<Figure size 1080x720 with 4 Axes>"
      ]
     },
     "metadata": {
      "needs_background": "light"
     },
     "output_type": "display_data"
    }
   ],
   "source": [
    "plt.subplots(figsize=(15, 10))\n",
    "plot = calls_df.hist('duration', bins=37, ax=plt.subplot(2, 2, 1))\n",
    "plot = calls_df.boxplot('duration', ax=plt.subplot(2, 2, 2))\n",
    "plot = net_df.hist('mb_used', bins=100, ax=plt.subplot(2, 2, 3))\n",
    "plot = net_df.boxplot('mb_used', ax=plt.subplot(2, 2, 4))\n",
    "\n",
    "print(len(calls_df.query('duration == 0')) / len(calls_df))\n",
    "print(len(net_df.query('mb_used == 0')) / len(net_df))"
   ]
  },
  {
   "cell_type": "markdown",
   "metadata": {},
   "source": [
    "Звонков с 0 минут целых 20%, а нулевого трафика 13%."
   ]
  },
  {
   "cell_type": "code",
   "execution_count": 6,
   "metadata": {},
   "outputs": [
    {
     "data": {
      "text/plain": [
       "1377    1760\n",
       "1168    1692\n",
       "1375    1560\n",
       "Name: user_id, dtype: int64"
      ]
     },
     "execution_count": 6,
     "metadata": {},
     "output_type": "execute_result"
    }
   ],
   "source": [
    "calls_df['user_id'].value_counts().head(3)"
   ]
  },
  {
   "cell_type": "code",
   "execution_count": 7,
   "metadata": {},
   "outputs": [
    {
     "name": "stdout",
     "output_type": "stream",
     "text": [
      "1760 336\n",
      "0.19090909090909092\n",
      "1692 308\n",
      "0.18203309692671396\n",
      "1560 290\n",
      "0.1858974358974359\n"
     ]
    }
   ],
   "source": [
    "for maxx in calls_df['user_id'].value_counts().head(3).index:\n",
    "    print(calls_df.query('user_id == @maxx').shape[0], calls_df.query('user_id == @maxx and duration == 0').shape[0])\n",
    "    print(calls_df.query('user_id == @maxx and duration == 0').shape[0] / calls_df.query('user_id == @maxx').shape[0])"
   ]
  },
  {
   "cell_type": "code",
   "execution_count": 8,
   "metadata": {},
   "outputs": [
    {
     "name": "stdout",
     "output_type": "stream",
     "text": [
      "834 141\n",
      "0.16906474820143885\n",
      "812 121\n",
      "0.14901477832512317\n",
      "789 144\n",
      "0.18250950570342206\n"
     ]
    }
   ],
   "source": [
    "for maxx in net_df['user_id'].value_counts().head(3).index:\n",
    "    print(net_df.query('user_id == @maxx').shape[0], net_df.query('user_id == @maxx and mb_used == 0').shape[0])\n",
    "    print(net_df.query('user_id == @maxx and mb_used == 0').shape[0] / net_df.query('user_id == @maxx').shape[0])"
   ]
  },
  {
   "cell_type": "markdown",
   "metadata": {},
   "source": [
    "Вообще если присмотреться вероятность получить 0, при возрастании количества звонков и подключений к сети как раз приближается к 20% и 13% соответственно. Мне кажется это указывает на систематичность ошибки, возможно ее выдает алгоритм собирающий информацию. А возможно и сама сеть оператора чудит."
   ]
  },
  {
   "cell_type": "markdown",
   "metadata": {},
   "source": [
    "Избавимся от выбросов:<br><br>Правило 3х сигм действительно для нормального распределения, в данном случае распределение Пуассоновское, поэтому обрезать будем по усам ящика."
   ]
  },
  {
   "cell_type": "code",
   "execution_count": 9,
   "metadata": {},
   "outputs": [],
   "source": [
    "def cut_junk(df):\n",
    "    \n",
    "    for col in df:\n",
    "        if col == 'duration' or col == 'mb_used':\n",
    "            \n",
    "            q3 = df[col].describe()['75%']\n",
    "            q1 = df[col].describe()['25%']\n",
    "            iqr = q3 - q1\n",
    "\n",
    "            return df.loc[(df[col] >= np.floor(q1 - 1.5 * iqr)) & (df[col] <= np.ceil(q3 + 1.5 * iqr))]"
   ]
  },
  {
   "cell_type": "code",
   "execution_count": 10,
   "metadata": {},
   "outputs": [],
   "source": [
    "calls_df = cut_junk(calls_df)\n",
    "net_df = cut_junk(net_df)"
   ]
  },
  {
   "cell_type": "markdown",
   "metadata": {},
   "source": [
    "Нули сделаем невидимыми:"
   ]
  },
  {
   "cell_type": "code",
   "execution_count": 11,
   "metadata": {},
   "outputs": [],
   "source": [
    "calls_df.loc[calls_df['duration'] == 0, 'duration'] = np.nan\n",
    "net_df.loc[net_df['mb_used'] == 0, 'mb_used'] = np.nan"
   ]
  },
  {
   "cell_type": "code",
   "execution_count": 12,
   "metadata": {},
   "outputs": [
    {
     "data": {
      "image/png": "[encoded data removed]",
      "text/plain": [
       "<Figure size 1080x720 with 4 Axes>"
      ]
     },
     "metadata": {
      "needs_background": "light"
     },
     "output_type": "display_data"
    }
   ],
   "source": [
    "plt.subplots(figsize=(15, 10))\n",
    "plot = calls_df.hist('duration', bins=50, ax=plt.subplot(2, 2, 1))\n",
    "plot = calls_df.boxplot('duration', ax=plt.subplot(2, 2, 2))\n",
    "plot = net_df.hist('mb_used', bins=100, ax=plt.subplot(2, 2, 3))\n",
    "plot = net_df.boxplot('mb_used', ax=plt.subplot(2, 2, 4))"
   ]
  },
  {
   "cell_type": "code",
   "execution_count": 13,
   "metadata": {},
   "outputs": [
    {
     "name": "stdout",
     "output_type": "stream",
     "text": [
      "<class 'pandas.core.frame.DataFrame'>\n",
      "Int64Index: 201929 entries, 0 to 202606\n",
      "Data columns (total 5 columns):\n",
      "id           201929 non-null object\n",
      "call_date    201929 non-null datetime64[ns]\n",
      "duration     162316 non-null float64\n",
      "user_id      201929 non-null int64\n",
      "month        201929 non-null int64\n",
      "dtypes: datetime64[ns](1), float64(1), int64(2), object(1)\n",
      "memory usage: 9.2+ MB\n"
     ]
    }
   ],
   "source": [
    "for df in [calls_df, net_df, messages_df]:\n",
    "    for col in df.columns:\n",
    "        if '_date' in col:\n",
    "            df['month'] = df[col].dt.month\n",
    "            \n",
    "calls_df.info()"
   ]
  },
  {
   "cell_type": "markdown",
   "metadata": {},
   "source": [
    "Посчитаем количество сделанных звонков и израсходованных минут разговора по месяцам для каждого пользователя:"
   ]
  },
  {
   "cell_type": "code",
   "execution_count": 14,
   "metadata": {},
   "outputs": [
    {
     "data": {
      "text/html": [
       "<div>\n",
       "<style scoped>\n",
       "    .dataframe tbody tr th:only-of-type {\n",
       "        vertical-align: middle;\n",
       "    }\n",
       "\n",
       "    .dataframe tbody tr th {\n",
       "        vertical-align: top;\n",
       "    }\n",
       "\n",
       "    .dataframe thead th {\n",
       "        text-align: right;\n",
       "    }\n",
       "</style>\n",
       "<table border=\"1\" class=\"dataframe\">\n",
       "  <thead>\n",
       "    <tr style=\"text-align: right;\">\n",
       "      <th></th>\n",
       "      <th></th>\n",
       "      <th>minutes</th>\n",
       "      <th>calls</th>\n",
       "    </tr>\n",
       "    <tr>\n",
       "      <th>user_id</th>\n",
       "      <th>month</th>\n",
       "      <th></th>\n",
       "      <th></th>\n",
       "    </tr>\n",
       "  </thead>\n",
       "  <tbody>\n",
       "    <tr>\n",
       "      <th>1458</th>\n",
       "      <th>10</th>\n",
       "      <td>855.0</td>\n",
       "      <td>122</td>\n",
       "    </tr>\n",
       "    <tr>\n",
       "      <th>1331</th>\n",
       "      <th>7</th>\n",
       "      <td>537.0</td>\n",
       "      <td>81</td>\n",
       "    </tr>\n",
       "    <tr>\n",
       "      <th>1005</th>\n",
       "      <th>9</th>\n",
       "      <td>479.0</td>\n",
       "      <td>66</td>\n",
       "    </tr>\n",
       "    <tr>\n",
       "      <th>1116</th>\n",
       "      <th>10</th>\n",
       "      <td>339.0</td>\n",
       "      <td>50</td>\n",
       "    </tr>\n",
       "    <tr>\n",
       "      <th>1006</th>\n",
       "      <th>3</th>\n",
       "      <td>286.0</td>\n",
       "      <td>46</td>\n",
       "    </tr>\n",
       "  </tbody>\n",
       "</table>\n",
       "</div>"
      ],
      "text/plain": [
       "               minutes  calls\n",
       "user_id month                \n",
       "1458    10       855.0    122\n",
       "1331    7        537.0     81\n",
       "1005    9        479.0     66\n",
       "1116    10       339.0     50\n",
       "1006    3        286.0     46"
      ]
     },
     "execution_count": 14,
     "metadata": {},
     "output_type": "execute_result"
    }
   ],
   "source": [
    "minutes_sum = calls_df.pivot_table(index=['user_id', 'month'], aggfunc={'duration':'sum', 'id':'count'})\n",
    "minutes_sum.set_axis(['minutes', 'calls'], axis='columns', inplace=True)\n",
    "minutes_sum.sample(5)"
   ]
  },
  {
   "cell_type": "markdown",
   "metadata": {},
   "source": [
    "Посчитаем количество отправленных сообщений по месяцам для каждого пользователя:"
   ]
  },
  {
   "cell_type": "code",
   "execution_count": 15,
   "metadata": {},
   "outputs": [
    {
     "data": {
      "text/html": [
       "<div>\n",
       "<style scoped>\n",
       "    .dataframe tbody tr th:only-of-type {\n",
       "        vertical-align: middle;\n",
       "    }\n",
       "\n",
       "    .dataframe tbody tr th {\n",
       "        vertical-align: top;\n",
       "    }\n",
       "\n",
       "    .dataframe thead th {\n",
       "        text-align: right;\n",
       "    }\n",
       "</style>\n",
       "<table border=\"1\" class=\"dataframe\">\n",
       "  <thead>\n",
       "    <tr style=\"text-align: right;\">\n",
       "      <th></th>\n",
       "      <th></th>\n",
       "      <th>sms</th>\n",
       "    </tr>\n",
       "    <tr>\n",
       "      <th>user_id</th>\n",
       "      <th>month</th>\n",
       "      <th></th>\n",
       "    </tr>\n",
       "  </thead>\n",
       "  <tbody>\n",
       "    <tr>\n",
       "      <th>1486</th>\n",
       "      <th>12</th>\n",
       "      <td>83</td>\n",
       "    </tr>\n",
       "    <tr>\n",
       "      <th>1058</th>\n",
       "      <th>11</th>\n",
       "      <td>27</td>\n",
       "    </tr>\n",
       "    <tr>\n",
       "      <th>1027</th>\n",
       "      <th>11</th>\n",
       "      <td>9</td>\n",
       "    </tr>\n",
       "    <tr>\n",
       "      <th>1144</th>\n",
       "      <th>11</th>\n",
       "      <td>51</td>\n",
       "    </tr>\n",
       "    <tr>\n",
       "      <th>1288</th>\n",
       "      <th>12</th>\n",
       "      <td>60</td>\n",
       "    </tr>\n",
       "  </tbody>\n",
       "</table>\n",
       "</div>"
      ],
      "text/plain": [
       "               sms\n",
       "user_id month     \n",
       "1486    12      83\n",
       "1058    11      27\n",
       "1027    11       9\n",
       "1144    11      51\n",
       "1288    12      60"
      ]
     },
     "execution_count": 15,
     "metadata": {},
     "output_type": "execute_result"
    }
   ],
   "source": [
    "messages_sum = messages_df.pivot_table(index=['user_id', 'month'], values='id', aggfunc='count')\n",
    "messages_sum.set_axis(['sms'], axis='columns', inplace=True)\n",
    "messages_sum.sample(5)"
   ]
  },
  {
   "cell_type": "markdown",
   "metadata": {},
   "source": [
    "Посчитаем объем израсходованного интернет-трафика по месяцам для каждого пользователя:"
   ]
  },
  {
   "cell_type": "code",
   "execution_count": 16,
   "metadata": {},
   "outputs": [
    {
     "data": {
      "text/html": [
       "<div>\n",
       "<style scoped>\n",
       "    .dataframe tbody tr th:only-of-type {\n",
       "        vertical-align: middle;\n",
       "    }\n",
       "\n",
       "    .dataframe tbody tr th {\n",
       "        vertical-align: top;\n",
       "    }\n",
       "\n",
       "    .dataframe thead th {\n",
       "        text-align: right;\n",
       "    }\n",
       "</style>\n",
       "<table border=\"1\" class=\"dataframe\">\n",
       "  <thead>\n",
       "    <tr style=\"text-align: right;\">\n",
       "      <th></th>\n",
       "      <th></th>\n",
       "      <th>gb_used</th>\n",
       "    </tr>\n",
       "    <tr>\n",
       "      <th>user_id</th>\n",
       "      <th>month</th>\n",
       "      <th></th>\n",
       "    </tr>\n",
       "  </thead>\n",
       "  <tbody>\n",
       "    <tr>\n",
       "      <th>1089</th>\n",
       "      <th>4</th>\n",
       "      <td>14.0</td>\n",
       "    </tr>\n",
       "    <tr>\n",
       "      <th>1188</th>\n",
       "      <th>11</th>\n",
       "      <td>11.0</td>\n",
       "    </tr>\n",
       "    <tr>\n",
       "      <th>1219</th>\n",
       "      <th>12</th>\n",
       "      <td>17.0</td>\n",
       "    </tr>\n",
       "  </tbody>\n",
       "</table>\n",
       "</div>"
      ],
      "text/plain": [
       "               gb_used\n",
       "user_id month         \n",
       "1089    4         14.0\n",
       "1188    11        11.0\n",
       "1219    12        17.0"
      ]
     },
     "execution_count": 16,
     "metadata": {},
     "output_type": "execute_result"
    }
   ],
   "source": [
    "mb_sum = net_df.pivot_table(index=['user_id', 'month'], values='mb_used', aggfunc='sum')\n",
    "mb_sum = np.ceil(mb_sum / 1024)\n",
    "mb_sum.set_axis(['gb_used'], axis='columns', inplace=True)\n",
    "mb_sum.sample(3)"
   ]
  },
  {
   "cell_type": "code",
   "execution_count": 17,
   "metadata": {},
   "outputs": [
    {
     "name": "stdout",
     "output_type": "stream",
     "text": [
      "<class 'pandas.core.frame.DataFrame'>\n",
      "MultiIndex: 3214 entries, (1000, 5) to (1499, 12)\n",
      "Data columns (total 4 columns):\n",
      "minutes    3174 non-null float64\n",
      "calls      3174 non-null float64\n",
      "sms        2717 non-null float64\n",
      "gb_used    3203 non-null float64\n",
      "dtypes: float64(4)\n",
      "memory usage: 114.0 KB\n"
     ]
    }
   ],
   "source": [
    "res_sum = minutes_sum.join([messages_sum, mb_sum], how='outer')\n",
    "res_sum.info()"
   ]
  },
  {
   "cell_type": "markdown",
   "metadata": {},
   "source": [
    "Посчитаем помесячную выручку с каждого пользователя:"
   ]
  },
  {
   "cell_type": "code",
   "execution_count": 18,
   "metadata": {},
   "outputs": [
    {
     "data": {
      "text/html": [
       "<div>\n",
       "<style scoped>\n",
       "    .dataframe tbody tr th:only-of-type {\n",
       "        vertical-align: middle;\n",
       "    }\n",
       "\n",
       "    .dataframe tbody tr th {\n",
       "        vertical-align: top;\n",
       "    }\n",
       "\n",
       "    .dataframe thead th {\n",
       "        text-align: right;\n",
       "    }\n",
       "</style>\n",
       "<table border=\"1\" class=\"dataframe\">\n",
       "  <thead>\n",
       "    <tr style=\"text-align: right;\">\n",
       "      <th></th>\n",
       "      <th></th>\n",
       "      <th>minutes</th>\n",
       "      <th>calls</th>\n",
       "      <th>sms</th>\n",
       "      <th>gb_used</th>\n",
       "      <th>tariff</th>\n",
       "    </tr>\n",
       "    <tr>\n",
       "      <th>user_id</th>\n",
       "      <th>month</th>\n",
       "      <th></th>\n",
       "      <th></th>\n",
       "      <th></th>\n",
       "      <th></th>\n",
       "      <th></th>\n",
       "    </tr>\n",
       "  </thead>\n",
       "  <tbody>\n",
       "    <tr>\n",
       "      <th>1000</th>\n",
       "      <th>5</th>\n",
       "      <td>159.0</td>\n",
       "      <td>22.0</td>\n",
       "      <td>22.0</td>\n",
       "      <td>3.0</td>\n",
       "      <td>ultra</td>\n",
       "    </tr>\n",
       "  </tbody>\n",
       "</table>\n",
       "</div>"
      ],
      "text/plain": [
       "               minutes  calls   sms  gb_used tariff\n",
       "user_id month                                      \n",
       "1000    5        159.0   22.0  22.0      3.0  ultra"
      ]
     },
     "execution_count": 18,
     "metadata": {},
     "output_type": "execute_result"
    }
   ],
   "source": [
    "users_df = users_df.set_index('user_id')\n",
    "res_sum = res_sum.merge(users_df['tariff'], left_index=True, right_index=True)\n",
    "\n",
    "res_sum.head(1)"
   ]
  },
  {
   "cell_type": "code",
   "execution_count": 19,
   "metadata": {},
   "outputs": [
    {
     "data": {
      "text/html": [
       "<div>\n",
       "<style scoped>\n",
       "    .dataframe tbody tr th:only-of-type {\n",
       "        vertical-align: middle;\n",
       "    }\n",
       "\n",
       "    .dataframe tbody tr th {\n",
       "        vertical-align: top;\n",
       "    }\n",
       "\n",
       "    .dataframe thead th {\n",
       "        text-align: right;\n",
       "    }\n",
       "</style>\n",
       "<table border=\"1\" class=\"dataframe\">\n",
       "  <thead>\n",
       "    <tr style=\"text-align: right;\">\n",
       "      <th></th>\n",
       "      <th>messages_included</th>\n",
       "      <th>mg_per_month_included</th>\n",
       "      <th>minutes_included</th>\n",
       "      <th>rub_monthly_fee</th>\n",
       "      <th>rub_per_gb</th>\n",
       "      <th>rub_per_message</th>\n",
       "      <th>rub_per_minute</th>\n",
       "      <th>tariff_name</th>\n",
       "    </tr>\n",
       "  </thead>\n",
       "  <tbody>\n",
       "    <tr>\n",
       "      <th>0</th>\n",
       "      <td>50</td>\n",
       "      <td>15360</td>\n",
       "      <td>500</td>\n",
       "      <td>550</td>\n",
       "      <td>200</td>\n",
       "      <td>3</td>\n",
       "      <td>3</td>\n",
       "      <td>smart</td>\n",
       "    </tr>\n",
       "    <tr>\n",
       "      <th>1</th>\n",
       "      <td>1000</td>\n",
       "      <td>30720</td>\n",
       "      <td>3000</td>\n",
       "      <td>1950</td>\n",
       "      <td>150</td>\n",
       "      <td>1</td>\n",
       "      <td>1</td>\n",
       "      <td>ultra</td>\n",
       "    </tr>\n",
       "  </tbody>\n",
       "</table>\n",
       "</div>"
      ],
      "text/plain": [
       "   messages_included  mg_per_month_included  minutes_included  \\\n",
       "0                 50                  15360               500   \n",
       "1               1000                  30720              3000   \n",
       "\n",
       "   rub_monthly_fee  rub_per_gb  rub_per_message  rub_per_minute tariff_name  \n",
       "0              550         200                3               3       smart  \n",
       "1             1950         150                1               1       ultra  "
      ]
     },
     "execution_count": 19,
     "metadata": {},
     "output_type": "execute_result"
    }
   ],
   "source": [
    "tariffs_df.head()"
   ]
  },
  {
   "cell_type": "code",
   "execution_count": 20,
   "metadata": {},
   "outputs": [],
   "source": [
    "def gimme_your_money(row):\n",
    "    \n",
    "    key = row['tariff']\n",
    "    tariff = tariffs_df.loc[tariffs_df['tariff_name'] == key]\n",
    "\n",
    "    \n",
    "    if row['minutes'] > int(tariff['minutes_included']):\n",
    "        minutes_pay = int((row['minutes'] - tariff['minutes_included']) * tariff['rub_per_minute'])\n",
    "    else:\n",
    "        minutes_pay = 0\n",
    "    \n",
    "    \n",
    "    if row['sms'] > int(tariff['messages_included']):\n",
    "        msg_pay = int((row['sms'] - tariff['messages_included']) * tariff['rub_per_message'])\n",
    "    else:\n",
    "        msg_pay = 0\n",
    "    \n",
    "    \n",
    "    if row['gb_used'] > int(np.ceil(tariff['mg_per_month_included'] / 1024)):\n",
    "        net_pay = int((row['gb_used'] - np.ceil(tariff['mg_per_month_included'] / 1024)) * tariff['rub_per_gb'])\n",
    "    else:\n",
    "        net_pay = 0\n",
    "        \n",
    "        \n",
    "    month_pay = minutes_pay + msg_pay + net_pay + int(tariff['rub_monthly_fee'])\n",
    "        \n",
    "    return month_pay"
   ]
  },
  {
   "cell_type": "code",
   "execution_count": 21,
   "metadata": {},
   "outputs": [
    {
     "data": {
      "text/html": [
       "<div>\n",
       "<style scoped>\n",
       "    .dataframe tbody tr th:only-of-type {\n",
       "        vertical-align: middle;\n",
       "    }\n",
       "\n",
       "    .dataframe tbody tr th {\n",
       "        vertical-align: top;\n",
       "    }\n",
       "\n",
       "    .dataframe thead th {\n",
       "        text-align: right;\n",
       "    }\n",
       "</style>\n",
       "<table border=\"1\" class=\"dataframe\">\n",
       "  <thead>\n",
       "    <tr style=\"text-align: right;\">\n",
       "      <th></th>\n",
       "      <th>minutes</th>\n",
       "      <th>calls</th>\n",
       "      <th>sms</th>\n",
       "      <th>gb_used</th>\n",
       "      <th>month_pay</th>\n",
       "    </tr>\n",
       "  </thead>\n",
       "  <tbody>\n",
       "    <tr>\n",
       "      <th>count</th>\n",
       "      <td>3174.000000</td>\n",
       "      <td>3214.000000</td>\n",
       "      <td>2717.000000</td>\n",
       "      <td>3203.000000</td>\n",
       "      <td>3214.000000</td>\n",
       "    </tr>\n",
       "    <tr>\n",
       "      <th>mean</th>\n",
       "      <td>451.018589</td>\n",
       "      <td>62.827940</td>\n",
       "      <td>45.283769</td>\n",
       "      <td>17.172338</td>\n",
       "      <td>1511.327940</td>\n",
       "    </tr>\n",
       "    <tr>\n",
       "      <th>std</th>\n",
       "      <td>234.947265</td>\n",
       "      <td>33.130371</td>\n",
       "      <td>35.051363</td>\n",
       "      <td>7.191215</td>\n",
       "      <td>783.819673</td>\n",
       "    </tr>\n",
       "    <tr>\n",
       "      <th>min</th>\n",
       "      <td>0.000000</td>\n",
       "      <td>0.000000</td>\n",
       "      <td>1.000000</td>\n",
       "      <td>0.000000</td>\n",
       "      <td>550.000000</td>\n",
       "    </tr>\n",
       "    <tr>\n",
       "      <th>25%</th>\n",
       "      <td>286.000000</td>\n",
       "      <td>40.000000</td>\n",
       "      <td>19.000000</td>\n",
       "      <td>13.000000</td>\n",
       "      <td>750.000000</td>\n",
       "    </tr>\n",
       "    <tr>\n",
       "      <th>50%</th>\n",
       "      <td>440.500000</td>\n",
       "      <td>62.000000</td>\n",
       "      <td>38.000000</td>\n",
       "      <td>17.000000</td>\n",
       "      <td>1591.000000</td>\n",
       "    </tr>\n",
       "    <tr>\n",
       "      <th>75%</th>\n",
       "      <td>585.000000</td>\n",
       "      <td>82.000000</td>\n",
       "      <td>63.000000</td>\n",
       "      <td>21.000000</td>\n",
       "      <td>1950.000000</td>\n",
       "    </tr>\n",
       "    <tr>\n",
       "      <th>max</th>\n",
       "      <td>1583.000000</td>\n",
       "      <td>240.000000</td>\n",
       "      <td>224.000000</td>\n",
       "      <td>45.000000</td>\n",
       "      <td>6692.000000</td>\n",
       "    </tr>\n",
       "  </tbody>\n",
       "</table>\n",
       "</div>"
      ],
      "text/plain": [
       "           minutes        calls          sms      gb_used    month_pay\n",
       "count  3174.000000  3214.000000  2717.000000  3203.000000  3214.000000\n",
       "mean    451.018589    62.827940    45.283769    17.172338  1511.327940\n",
       "std     234.947265    33.130371    35.051363     7.191215   783.819673\n",
       "min       0.000000     0.000000     1.000000     0.000000   550.000000\n",
       "25%     286.000000    40.000000    19.000000    13.000000   750.000000\n",
       "50%     440.500000    62.000000    38.000000    17.000000  1591.000000\n",
       "75%     585.000000    82.000000    63.000000    21.000000  1950.000000\n",
       "max    1583.000000   240.000000   224.000000    45.000000  6692.000000"
      ]
     },
     "execution_count": 21,
     "metadata": {},
     "output_type": "execute_result"
    }
   ],
   "source": [
    "res_sum['month_pay'] = res_sum.apply(gimme_your_money, axis=1)\n",
    "res_sum['calls'] = res_sum['calls'].fillna(0).astype('int')\n",
    "res_sum.describe()"
   ]
  },
  {
   "cell_type": "markdown",
   "metadata": {},
   "source": [
    "Месяцы, где сумма минут и гб для абонента равна 0 преобразуем в Nan, чтобы уменьшить их влияние. А вот количество звонков может быть равно нулю."
   ]
  },
  {
   "cell_type": "markdown",
   "metadata": {},
   "source": [
    "### Шаг 3. <span style=\"color:green;font-size:200%\">&#10003;</span>"
   ]
  },
  {
   "cell_type": "code",
   "execution_count": 22,
   "metadata": {},
   "outputs": [
    {
     "data": {
      "text/html": [
       "<div>\n",
       "<style scoped>\n",
       "    .dataframe tbody tr th:only-of-type {\n",
       "        vertical-align: middle;\n",
       "    }\n",
       "\n",
       "    .dataframe tbody tr th {\n",
       "        vertical-align: top;\n",
       "    }\n",
       "\n",
       "    .dataframe thead tr th {\n",
       "        text-align: left;\n",
       "    }\n",
       "</style>\n",
       "<table border=\"1\" class=\"dataframe\">\n",
       "  <thead>\n",
       "    <tr>\n",
       "      <th></th>\n",
       "      <th colspan=\"2\" halign=\"left\">gb_used</th>\n",
       "      <th colspan=\"2\" halign=\"left\">minutes</th>\n",
       "      <th colspan=\"2\" halign=\"left\">sms</th>\n",
       "    </tr>\n",
       "    <tr>\n",
       "      <th>tariff</th>\n",
       "      <th>smart</th>\n",
       "      <th>ultra</th>\n",
       "      <th>smart</th>\n",
       "      <th>ultra</th>\n",
       "      <th>smart</th>\n",
       "      <th>ultra</th>\n",
       "    </tr>\n",
       "  </thead>\n",
       "  <tbody>\n",
       "    <tr>\n",
       "      <th>count</th>\n",
       "      <td>2228.000000</td>\n",
       "      <td>975.000000</td>\n",
       "      <td>2223.000000</td>\n",
       "      <td>951.000000</td>\n",
       "      <td>1922.000000</td>\n",
       "      <td>795.000000</td>\n",
       "    </tr>\n",
       "    <tr>\n",
       "      <th>mean</th>\n",
       "      <td>16.277828</td>\n",
       "      <td>19.216410</td>\n",
       "      <td>413.734143</td>\n",
       "      <td>538.172450</td>\n",
       "      <td>38.716441</td>\n",
       "      <td>61.161006</td>\n",
       "    </tr>\n",
       "    <tr>\n",
       "      <th>std</th>\n",
       "      <td>5.721850</td>\n",
       "      <td>9.441234</td>\n",
       "      <td>186.839934</td>\n",
       "      <td>303.086359</td>\n",
       "      <td>26.787949</td>\n",
       "      <td>45.931026</td>\n",
       "    </tr>\n",
       "    <tr>\n",
       "      <th>min</th>\n",
       "      <td>0.000000</td>\n",
       "      <td>0.000000</td>\n",
       "      <td>0.000000</td>\n",
       "      <td>0.000000</td>\n",
       "      <td>1.000000</td>\n",
       "      <td>1.000000</td>\n",
       "    </tr>\n",
       "    <tr>\n",
       "      <th>25%</th>\n",
       "      <td>13.000000</td>\n",
       "      <td>12.000000</td>\n",
       "      <td>280.000000</td>\n",
       "      <td>308.500000</td>\n",
       "      <td>17.000000</td>\n",
       "      <td>24.000000</td>\n",
       "    </tr>\n",
       "    <tr>\n",
       "      <th>50%</th>\n",
       "      <td>17.000000</td>\n",
       "      <td>19.000000</td>\n",
       "      <td>415.000000</td>\n",
       "      <td>519.000000</td>\n",
       "      <td>34.000000</td>\n",
       "      <td>51.000000</td>\n",
       "    </tr>\n",
       "    <tr>\n",
       "      <th>75%</th>\n",
       "      <td>20.000000</td>\n",
       "      <td>26.000000</td>\n",
       "      <td>540.000000</td>\n",
       "      <td>752.000000</td>\n",
       "      <td>55.000000</td>\n",
       "      <td>87.500000</td>\n",
       "    </tr>\n",
       "    <tr>\n",
       "      <th>max</th>\n",
       "      <td>38.000000</td>\n",
       "      <td>45.000000</td>\n",
       "      <td>1435.000000</td>\n",
       "      <td>1583.000000</td>\n",
       "      <td>143.000000</td>\n",
       "      <td>224.000000</td>\n",
       "    </tr>\n",
       "  </tbody>\n",
       "</table>\n",
       "</div>"
      ],
      "text/plain": [
       "            gb_used                  minutes                       sms  \\\n",
       "tariff        smart       ultra        smart        ultra        smart   \n",
       "count   2228.000000  975.000000  2223.000000   951.000000  1922.000000   \n",
       "mean      16.277828   19.216410   413.734143   538.172450    38.716441   \n",
       "std        5.721850    9.441234   186.839934   303.086359    26.787949   \n",
       "min        0.000000    0.000000     0.000000     0.000000     1.000000   \n",
       "25%       13.000000   12.000000   280.000000   308.500000    17.000000   \n",
       "50%       17.000000   19.000000   415.000000   519.000000    34.000000   \n",
       "75%       20.000000   26.000000   540.000000   752.000000    55.000000   \n",
       "max       38.000000   45.000000  1435.000000  1583.000000   143.000000   \n",
       "\n",
       "                    \n",
       "tariff       ultra  \n",
       "count   795.000000  \n",
       "mean     61.161006  \n",
       "std      45.931026  \n",
       "min       1.000000  \n",
       "25%      24.000000  \n",
       "50%      51.000000  \n",
       "75%      87.500000  \n",
       "max     224.000000  "
      ]
     },
     "execution_count": 22,
     "metadata": {},
     "output_type": "execute_result"
    },
    {
     "data": {
      "image/png": "[encoded data removed]",
      "text/plain": [
       "<Figure size 720x504 with 1 Axes>"
      ]
     },
     "metadata": {
      "needs_background": "light"
     },
     "output_type": "display_data"
    }
   ],
   "source": [
    "res_tariff_pivot = res_sum.pivot_table(index=['user_id', 'month'], columns='tariff', values=['minutes', 'sms', 'gb_used'])\n",
    "res_tariff_pivot.boxplot(figsize=(10, 7))\n",
    "res_tariff_pivot.describe()"
   ]
  },
  {
   "cell_type": "markdown",
   "metadata": {},
   "source": [
    "#### Звонки:"
   ]
  },
  {
   "cell_type": "code",
   "execution_count": 23,
   "metadata": {},
   "outputs": [
    {
     "data": {
      "text/plain": [
       "array([<matplotlib.axes._subplots.AxesSubplot object at 0x7f2b5ab36748>,\n",
       "       <matplotlib.axes._subplots.AxesSubplot object at 0x7f2b5ab06828>],\n",
       "      dtype=object)"
      ]
     },
     "execution_count": 23,
     "metadata": {},
     "output_type": "execute_result"
    },
    {
     "data": {
      "image/png": "[encoded data removed]",
      "text/plain": [
       "<Figure size 1080x360 with 2 Axes>"
      ]
     },
     "metadata": {
      "needs_background": "light"
     },
     "output_type": "display_data"
    }
   ],
   "source": [
    "ax = res_tariff_pivot.hist('minutes', bins=[0, 200, 400, 600, 800, 1000, 1700], alpha=0.5, figsize=(15, 5))\n",
    "res_tariff_pivot.hist('minutes', bins=list(range(0, 1700, 50)), alpha=0.5, ax=ax, figsize=(15, 5))"
   ]
  },
  {
   "cell_type": "markdown",
   "metadata": {},
   "source": [
    "#### Интернет"
   ]
  },
  {
   "cell_type": "code",
   "execution_count": 24,
   "metadata": {},
   "outputs": [
    {
     "data": {
      "text/plain": [
       "array([<matplotlib.axes._subplots.AxesSubplot object at 0x7f2b5aa2ada0>,\n",
       "       <matplotlib.axes._subplots.AxesSubplot object at 0x7f2b60688e80>],\n",
       "      dtype=object)"
      ]
     },
     "execution_count": 24,
     "metadata": {},
     "output_type": "execute_result"
    },
    {
     "data": {
      "image/png": "[encoded data removed]",
      "text/plain": [
       "<Figure size 1080x360 with 2 Axes>"
      ]
     },
     "metadata": {
      "needs_background": "light"
     },
     "output_type": "display_data"
    }
   ],
   "source": [
    "ax = res_tariff_pivot.hist('gb_used', bins=[0, 10, 20, 30, 50], alpha=0.5, figsize=(15, 5))\n",
    "res_tariff_pivot.hist('gb_used', bins=list(range(0, 50)), alpha=0.5, ax=ax, figsize=(15, 5))"
   ]
  },
  {
   "cell_type": "markdown",
   "metadata": {},
   "source": [
    "#### СМС"
   ]
  },
  {
   "cell_type": "code",
   "execution_count": 25,
   "metadata": {},
   "outputs": [
    {
     "data": {
      "text/plain": [
       "array([<matplotlib.axes._subplots.AxesSubplot object at 0x7f2b603ed160>,\n",
       "       <matplotlib.axes._subplots.AxesSubplot object at 0x7f2b603d0a90>],\n",
       "      dtype=object)"
      ]
     },
     "execution_count": 25,
     "metadata": {},
     "output_type": "execute_result"
    },
    {
     "data": {
      "image/png": "[encoded data removed]",
      "text/plain": [
       "<Figure size 1080x360 with 2 Axes>"
      ]
     },
     "metadata": {
      "needs_background": "light"
     },
     "output_type": "display_data"
    }
   ],
   "source": [
    "ax = res_tariff_pivot.hist('sms', bins=[0, 10, 30, 50, 100, 230], alpha=0.5, figsize=(15, 5))\n",
    "res_tariff_pivot.hist('sms', bins=list(range(0, 230, 5)), alpha=0.5, ax=ax, figsize=(15, 5))"
   ]
  },
  {
   "cell_type": "markdown",
   "metadata": {},
   "source": [
    "Дополним вывод describe значением дисперсии:"
   ]
  },
  {
   "cell_type": "code",
   "execution_count": 26,
   "metadata": {},
   "outputs": [
    {
     "data": {
      "text/html": [
       "<div>\n",
       "<style scoped>\n",
       "    .dataframe tbody tr th:only-of-type {\n",
       "        vertical-align: middle;\n",
       "    }\n",
       "\n",
       "    .dataframe tbody tr th {\n",
       "        vertical-align: top;\n",
       "    }\n",
       "\n",
       "    .dataframe thead tr th {\n",
       "        text-align: left;\n",
       "    }\n",
       "</style>\n",
       "<table border=\"1\" class=\"dataframe\">\n",
       "  <thead>\n",
       "    <tr>\n",
       "      <th></th>\n",
       "      <th colspan=\"2\" halign=\"left\">gb_used</th>\n",
       "      <th colspan=\"2\" halign=\"left\">minutes</th>\n",
       "      <th colspan=\"2\" halign=\"left\">sms</th>\n",
       "    </tr>\n",
       "    <tr>\n",
       "      <th>tariff</th>\n",
       "      <th>smart</th>\n",
       "      <th>ultra</th>\n",
       "      <th>smart</th>\n",
       "      <th>ultra</th>\n",
       "      <th>smart</th>\n",
       "      <th>ultra</th>\n",
       "    </tr>\n",
       "  </thead>\n",
       "  <tbody>\n",
       "    <tr>\n",
       "      <th>count</th>\n",
       "      <td>2228.000000</td>\n",
       "      <td>975.000000</td>\n",
       "      <td>2223.000000</td>\n",
       "      <td>951.000000</td>\n",
       "      <td>1922.000000</td>\n",
       "      <td>795.000000</td>\n",
       "    </tr>\n",
       "    <tr>\n",
       "      <th>mean</th>\n",
       "      <td>16.277828</td>\n",
       "      <td>19.216410</td>\n",
       "      <td>413.734143</td>\n",
       "      <td>538.172450</td>\n",
       "      <td>38.716441</td>\n",
       "      <td>61.161006</td>\n",
       "    </tr>\n",
       "    <tr>\n",
       "      <th>std</th>\n",
       "      <td>5.721850</td>\n",
       "      <td>9.441234</td>\n",
       "      <td>186.839934</td>\n",
       "      <td>303.086359</td>\n",
       "      <td>26.787949</td>\n",
       "      <td>45.931026</td>\n",
       "    </tr>\n",
       "    <tr>\n",
       "      <th>min</th>\n",
       "      <td>0.000000</td>\n",
       "      <td>0.000000</td>\n",
       "      <td>0.000000</td>\n",
       "      <td>0.000000</td>\n",
       "      <td>1.000000</td>\n",
       "      <td>1.000000</td>\n",
       "    </tr>\n",
       "    <tr>\n",
       "      <th>25%</th>\n",
       "      <td>13.000000</td>\n",
       "      <td>12.000000</td>\n",
       "      <td>280.000000</td>\n",
       "      <td>308.500000</td>\n",
       "      <td>17.000000</td>\n",
       "      <td>24.000000</td>\n",
       "    </tr>\n",
       "    <tr>\n",
       "      <th>50%</th>\n",
       "      <td>17.000000</td>\n",
       "      <td>19.000000</td>\n",
       "      <td>415.000000</td>\n",
       "      <td>519.000000</td>\n",
       "      <td>34.000000</td>\n",
       "      <td>51.000000</td>\n",
       "    </tr>\n",
       "    <tr>\n",
       "      <th>75%</th>\n",
       "      <td>20.000000</td>\n",
       "      <td>26.000000</td>\n",
       "      <td>540.000000</td>\n",
       "      <td>752.000000</td>\n",
       "      <td>55.000000</td>\n",
       "      <td>87.500000</td>\n",
       "    </tr>\n",
       "    <tr>\n",
       "      <th>max</th>\n",
       "      <td>38.000000</td>\n",
       "      <td>45.000000</td>\n",
       "      <td>1435.000000</td>\n",
       "      <td>1583.000000</td>\n",
       "      <td>143.000000</td>\n",
       "      <td>224.000000</td>\n",
       "    </tr>\n",
       "    <tr>\n",
       "      <th>var</th>\n",
       "      <td>32.724876</td>\n",
       "      <td>89.045474</td>\n",
       "      <td>34893.457435</td>\n",
       "      <td>91764.746286</td>\n",
       "      <td>717.220843</td>\n",
       "      <td>2107.005524</td>\n",
       "    </tr>\n",
       "  </tbody>\n",
       "</table>\n",
       "</div>"
      ],
      "text/plain": [
       "            gb_used                   minutes                        sms  \\\n",
       "tariff        smart       ultra         smart         ultra        smart   \n",
       "count   2228.000000  975.000000   2223.000000    951.000000  1922.000000   \n",
       "mean      16.277828   19.216410    413.734143    538.172450    38.716441   \n",
       "std        5.721850    9.441234    186.839934    303.086359    26.787949   \n",
       "min        0.000000    0.000000      0.000000      0.000000     1.000000   \n",
       "25%       13.000000   12.000000    280.000000    308.500000    17.000000   \n",
       "50%       17.000000   19.000000    415.000000    519.000000    34.000000   \n",
       "75%       20.000000   26.000000    540.000000    752.000000    55.000000   \n",
       "max       38.000000   45.000000   1435.000000   1583.000000   143.000000   \n",
       "var       32.724876   89.045474  34893.457435  91764.746286   717.220843   \n",
       "\n",
       "                     \n",
       "tariff        ultra  \n",
       "count    795.000000  \n",
       "mean      61.161006  \n",
       "std       45.931026  \n",
       "min        1.000000  \n",
       "25%       24.000000  \n",
       "50%       51.000000  \n",
       "75%       87.500000  \n",
       "max      224.000000  \n",
       "var     2107.005524  "
      ]
     },
     "execution_count": 26,
     "metadata": {},
     "output_type": "execute_result"
    }
   ],
   "source": [
    "res_describe = res_tariff_pivot.describe()\n",
    "res_describe.loc['var'] = np.var(res_tariff_pivot)\n",
    "res_describe"
   ]
  },
  {
   "cell_type": "markdown",
   "metadata": {},
   "source": [
    "Исходя из полученных графиков можно судить о среднестатистическом пользователе конкретного тарифа:<br>\n",
    "\n",
    "Пользователь тарифа \"Смарт\":\n",
    "\n",
    "    1) Хотя по смещению гистограммы видно, что подавляющее большинство людей контролирует расход минут, все же 500 минут нехватает, самый пик в диапазоне от 400 до 600 минут в месяц. Среднее и медиана в данном случае почти равны ~ 400 мин. Предоставленый ресурс используется по максимуму и велик риск переплаты.\n",
    "\n",
    "    2) По статистике использования интеренета видно, что его не хватает. Среднее и медиана ~ 16 это уже превышает лимит, гистограмма смещена вправо 10 - 30 гб, среднестатистическому пользователю не хватает 15гб в месяц.\n",
    "\n",
    "    3) По смс можно видеть, что среднестатистический пользователь не отправляет больше 100 смс в месяц. Чего опять же нехватает в тарифе \"смарт\"\n",
    "\n",
    "Пользователь тарифа \"Ультима\":\n",
    "\n",
    "    1) В этом тарифе вообще распределение более горизонтальное, большой разброс, что видно по std. Стреднестатистический пользователь этого тарифа расходует от 200 до 750 минут в месяц. Среднее и медиана здесь немного различаются, медиана здесь меньше, датасет немного скошен вправо. Среднестатистическому пользователю никак не получается выговорить 3000 минут в месяц.\n",
    "\n",
    "    2) Здесь тоже можно наблюдать как растянулись значения по оси, хотя отведенного лимита здесь чаще хватает. Среднее 18 и медиана 19 гб. \n",
    "\n",
    "    3) Пользователи чаще отправляют смс, покольку лимит позваляет, но среднестатистический редко использьует больше 100 в месяц.\n",
    "\n",
    "\n",
    "Дисперсия отражает разброс величин относительно среднего, что тоже заметно по гистограмме, чем более острый график, тем ниже дисперсия.<br>\n",
    "Как и более узкие рамки гистограммы уменьшают дисперсию, так и больший лимит резурсов в тарифе размазывает эту гистограмму."
   ]
  },
  {
   "cell_type": "markdown",
   "metadata": {},
   "source": [
    "### Шаг 4. <span style=\"color:green;font-size:200%\">&#10003;</span>"
   ]
  },
  {
   "cell_type": "markdown",
   "metadata": {},
   "source": [
    "    Проверить гипотезу - средняя выручка пользователей тарифов «Ультра» и «Смарт» различаются:"
   ]
  },
  {
   "cell_type": "code",
   "execution_count": 27,
   "metadata": {},
   "outputs": [
    {
     "data": {
      "text/html": [
       "<div>\n",
       "<style scoped>\n",
       "    .dataframe tbody tr th:only-of-type {\n",
       "        vertical-align: middle;\n",
       "    }\n",
       "\n",
       "    .dataframe tbody tr th {\n",
       "        vertical-align: top;\n",
       "    }\n",
       "\n",
       "    .dataframe thead th {\n",
       "        text-align: right;\n",
       "    }\n",
       "</style>\n",
       "<table border=\"1\" class=\"dataframe\">\n",
       "  <thead>\n",
       "    <tr style=\"text-align: right;\">\n",
       "      <th>tariff</th>\n",
       "      <th>smart</th>\n",
       "      <th>ultra</th>\n",
       "    </tr>\n",
       "  </thead>\n",
       "  <tbody>\n",
       "    <tr>\n",
       "      <th>count</th>\n",
       "      <td>350.000000</td>\n",
       "      <td>148.000000</td>\n",
       "    </tr>\n",
       "    <tr>\n",
       "      <th>mean</th>\n",
       "      <td>1307.141565</td>\n",
       "      <td>2066.336580</td>\n",
       "    </tr>\n",
       "    <tr>\n",
       "      <th>std</th>\n",
       "      <td>597.412802</td>\n",
       "      <td>260.953492</td>\n",
       "    </tr>\n",
       "    <tr>\n",
       "      <th>min</th>\n",
       "      <td>550.000000</td>\n",
       "      <td>1950.000000</td>\n",
       "    </tr>\n",
       "    <tr>\n",
       "      <th>25%</th>\n",
       "      <td>854.950000</td>\n",
       "      <td>1950.000000</td>\n",
       "    </tr>\n",
       "    <tr>\n",
       "      <th>50%</th>\n",
       "      <td>1160.333333</td>\n",
       "      <td>1950.000000</td>\n",
       "    </tr>\n",
       "    <tr>\n",
       "      <th>75%</th>\n",
       "      <td>1650.000000</td>\n",
       "      <td>1953.125000</td>\n",
       "    </tr>\n",
       "    <tr>\n",
       "      <th>max</th>\n",
       "      <td>4307.333333</td>\n",
       "      <td>3075.000000</td>\n",
       "    </tr>\n",
       "  </tbody>\n",
       "</table>\n",
       "</div>"
      ],
      "text/plain": [
       "tariff        smart        ultra\n",
       "count    350.000000   148.000000\n",
       "mean    1307.141565  2066.336580\n",
       "std      597.412802   260.953492\n",
       "min      550.000000  1950.000000\n",
       "25%      854.950000  1950.000000\n",
       "50%     1160.333333  1950.000000\n",
       "75%     1650.000000  1953.125000\n",
       "max     4307.333333  3075.000000"
      ]
     },
     "execution_count": 27,
     "metadata": {},
     "output_type": "execute_result"
    }
   ],
   "source": [
    "from scipy import stats as st\n",
    "\n",
    "mean_user_pay = res_sum.pivot_table(index='user_id', columns='tariff', values='month_pay')\n",
    "smart_user_pay = mean_user_pay['smart'].dropna()\n",
    "ultra_user_pay = mean_user_pay['ultra'].dropna()\n",
    "mean_user_pay.describe()"
   ]
  },
  {
   "cell_type": "markdown",
   "metadata": {},
   "source": [
    "Вроде отличается...<br>\n",
    "Это гипотеза о равенстве двух генеральных совокупностей<br>\n",
    "H0 должна звучать как-то так - средняя выручка пользователей тарифов «Ультра» и «Смарт» не различается, а значит равны!<br>H1 соответственно будет говорить о том что выручки у нас различаются. Ставлю все на H1."
   ]
  },
  {
   "cell_type": "code",
   "execution_count": 28,
   "metadata": {},
   "outputs": [
    {
     "name": "stdout",
     "output_type": "stream",
     "text": [
      "p-значение: 1.3244838989633962e-41\n",
      "Отвергаем нулевую гипотезу\n"
     ]
    }
   ],
   "source": [
    "#Критический уровень:\n",
    "alpha = 0.0001\n",
    "\n",
    "results = st.ttest_ind(smart_user_pay, ultra_user_pay)\n",
    "\n",
    "print('p-значение:', results.pvalue)\n",
    "\n",
    "if (results.pvalue < alpha):\n",
    "    print(\"Отвергаем нулевую гипотезу\")\n",
    "else:\n",
    "    print(\"Не получилось отвергнуть нулевую гипотезу\")"
   ]
  },
  {
   "cell_type": "markdown",
   "metadata": {},
   "source": [
    "Выручки различаются даже при alpha в 0.01%. Результат говорит о том что средняя выручка с абонента тарифа смарт в месяц никак не может сравниться с выручкой от тарифа ультра, даже случайно. Разница на лицо."
   ]
  },
  {
   "cell_type": "markdown",
   "metadata": {},
   "source": [
    "    Проверить гипотезу - средняя выручка пользователей из Москвы отличается от выручки пользователей из других регионов;"
   ]
  },
  {
   "cell_type": "markdown",
   "metadata": {},
   "source": [
    "H0 - средняя выручка пользователей из Москвы НЕ отличается от выручки пользователей из других регионов, а значит равна!<br>\n",
    "H1 гласит, что выручка в Москве и регионах отличаются."
   ]
  },
  {
   "cell_type": "code",
   "execution_count": 29,
   "metadata": {},
   "outputs": [
    {
     "data": {
      "text/html": [
       "<div>\n",
       "<style scoped>\n",
       "    .dataframe tbody tr th:only-of-type {\n",
       "        vertical-align: middle;\n",
       "    }\n",
       "\n",
       "    .dataframe tbody tr th {\n",
       "        vertical-align: top;\n",
       "    }\n",
       "\n",
       "    .dataframe thead th {\n",
       "        text-align: right;\n",
       "    }\n",
       "</style>\n",
       "<table border=\"1\" class=\"dataframe\">\n",
       "  <thead>\n",
       "    <tr style=\"text-align: right;\">\n",
       "      <th></th>\n",
       "      <th>region</th>\n",
       "      <th>moscow</th>\n",
       "    </tr>\n",
       "  </thead>\n",
       "  <tbody>\n",
       "    <tr>\n",
       "      <th>count</th>\n",
       "      <td>399.000000</td>\n",
       "      <td>99.000000</td>\n",
       "    </tr>\n",
       "    <tr>\n",
       "      <th>mean</th>\n",
       "      <td>1545.043820</td>\n",
       "      <td>1483.281592</td>\n",
       "    </tr>\n",
       "    <tr>\n",
       "      <th>std</th>\n",
       "      <td>633.046072</td>\n",
       "      <td>595.231944</td>\n",
       "    </tr>\n",
       "    <tr>\n",
       "      <th>min</th>\n",
       "      <td>550.000000</td>\n",
       "      <td>550.000000</td>\n",
       "    </tr>\n",
       "    <tr>\n",
       "      <th>25%</th>\n",
       "      <td>990.000000</td>\n",
       "      <td>959.150000</td>\n",
       "    </tr>\n",
       "    <tr>\n",
       "      <th>50%</th>\n",
       "      <td>1555.000000</td>\n",
       "      <td>1618.285714</td>\n",
       "    </tr>\n",
       "    <tr>\n",
       "      <th>75%</th>\n",
       "      <td>1950.000000</td>\n",
       "      <td>1950.000000</td>\n",
       "    </tr>\n",
       "    <tr>\n",
       "      <th>max</th>\n",
       "      <td>4307.333333</td>\n",
       "      <td>2896.500000</td>\n",
       "    </tr>\n",
       "  </tbody>\n",
       "</table>\n",
       "</div>"
      ],
      "text/plain": [
       "            region       moscow\n",
       "count   399.000000    99.000000\n",
       "mean   1545.043820  1483.281592\n",
       "std     633.046072   595.231944\n",
       "min     550.000000   550.000000\n",
       "25%     990.000000   959.150000\n",
       "50%    1555.000000  1618.285714\n",
       "75%    1950.000000  1950.000000\n",
       "max    4307.333333  2896.500000"
      ]
     },
     "execution_count": 29,
     "metadata": {},
     "output_type": "execute_result"
    }
   ],
   "source": [
    "city_user_pay = res_sum.pivot_table(index='user_id', values='month_pay')\n",
    "city_user_pay = city_user_pay.join(users_df['city'], how='left')\n",
    "city_user_pay['city'] = city_user_pay['city'].where(city_user_pay['city'] == 'Москва', 'Другой')\n",
    "city_user_pay = city_user_pay.pivot_table(index='user_id', columns='city')\n",
    "city_user_pay.set_axis(['region', 'moscow'], axis='columns', inplace=True)\n",
    "city_user_pay.describe()"
   ]
  },
  {
   "cell_type": "code",
   "execution_count": 30,
   "metadata": {},
   "outputs": [
    {
     "name": "stdout",
     "output_type": "stream",
     "text": [
      "p-значение:  0.3798066262179839\n",
      "Не получилось отвергнуть нулевую гипотезу\n"
     ]
    }
   ],
   "source": [
    "alpha = 0.0001\n",
    "\n",
    "results = st.ttest_ind(city_user_pay['region'].dropna(), city_user_pay['moscow'].dropna())\n",
    "\n",
    "print('p-значение: ', results.pvalue)\n",
    "\n",
    "if (results.pvalue < alpha):\n",
    "    print(\"Отвергаем нулевую гипотезу\")\n",
    "else:\n",
    "    print(\"Не получилось отвергнуть нулевую гипотезу\")"
   ]
  },
  {
   "cell_type": "markdown",
   "metadata": {},
   "source": [
    "Средняя выручка абонентов в Москве и Регионах практически не отличается. 38% что различие в выручке случайно, это очень значительно. "
   ]
  },
  {
   "cell_type": "markdown",
   "metadata": {},
   "source": [
    "### Вывод <span style=\"color:green;font-size:200%\">&#10003;</span>"
   ]
  },
  {
   "cell_type": "markdown",
   "metadata": {},
   "source": [
    "Пользователей тарифа \"Смарт\" от пользователей тарифа \"Ультра\" отличает диапазон используемого ресурса, что хорошо видно по разбросу значений, по характеристикам стандартного отклонения и десперсии.<br><br>\n",
    "У пользователей тарифа \"Ультра\" лимит, и тем не менее средний пользователь тарифа тарифа \"Смарт\" не многим отличается от пользователя тарифа \"Ультра\".<br>\n",
    "Они расходуют примерно одинаковое количество минут в месяц, хотя у пользователей тарифа \"Ультра все же диапазон шире, пользователи тарифа \"Смарт\" зачастую превышают лимит.<br>\n",
    "Тоже самое можно наблюдать и с кол-вом гб в месяц.<br><br>\n",
    "Гипотиза, что средняя выручка пользователей тарифов «Ультра» и «Смарт» различаются подтвердилась, несмотря на то что пользователи тарифа \"Смарт\" часто вынуждены переплачивать.<br>\n",
    "А гипотеза о том, что средняя выручка пользователей из Москвы отличается от выручки пользователей из других регионов, наоборот не подтвердилась, несмотря на большую популярность компании \"Мегалайн\" в регионах.<br><br>\n",
    "Продвигать стоит тариф \"Ультра\"."
   ]
  }
 ],
 "metadata": {
  "kernelspec": {
   "display_name": "Python 3",
   "language": "python",
   "name": "python3"
  },
  "language_info": {
   "codemirror_mode": {
    "name": "ipython",
    "version": 3
   },
   "file_extension": ".py",
   "mimetype": "text/x-python",
   "name": "python",
   "nbconvert_exporter": "python",
   "pygments_lexer": "ipython3",
   "version": "3.7.3"
  }
 },
 "nbformat": 4,
 "nbformat_minor": 2
}
